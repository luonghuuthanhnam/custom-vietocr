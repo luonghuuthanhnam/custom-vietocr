{
 "cells": [
  {
   "cell_type": "code",
   "execution_count": 1,
   "metadata": {},
   "outputs": [],
   "source": [
    "from vietocr.tool.config import Cfg"
   ]
  },
  {
   "cell_type": "code",
   "execution_count": 2,
   "metadata": {},
   "outputs": [],
   "source": [
    "from vietocr.model.trainer import Trainer"
   ]
  },
  {
   "cell_type": "code",
   "execution_count": 3,
   "metadata": {},
   "outputs": [
    {
     "name": "stdout",
     "output_type": "stream",
     "text": [
      "fname: config_vgg.yml\n"
     ]
    }
   ],
   "source": [
    "config = Cfg.load_config_from_file(\"config_vgg.yml\")"
   ]
  },
  {
   "cell_type": "code",
   "execution_count": 4,
   "metadata": {},
   "outputs": [],
   "source": [
    "dataset_params = {\n",
    "'name':'hw',\n",
    "'data_root':'',\n",
    "'train_annotation':'gen_data_230315/train_test_txt/230315_mix_train.txt',\n",
    "'valid_annotation':'gen_data_230315/train_test_txt/230315_mix_test.txt'\n",
    "}\n",
    "\n",
    "params = {\n",
    "'print_every':100,\n",
    "'valid_every':500,\n",
    "'iters':80000,\n",
    "# 'checkpoint':'/content/drive/MyDrive/PPY/DischargePaper/OCR/model/line_ocr_221122_8711.pth',\n",
    "'export':'line_ocr_230315.pth',\n",
    "'metrics': 1000\n",
    "}\n",
    "\n",
    "config['trainer'].update(params)\n",
    "config.weights = \"https://drive.google.com/uc?id=13327Y1tz1ohsm5YZMyXVMPIOjoOA0OaA\"\n",
    "\n",
    "config['dataset'].update(dataset_params)\n",
    "config['device'] = 'cuda'"
   ]
  },
  {
   "cell_type": "code",
   "execution_count": 5,
   "metadata": {},
   "outputs": [
    {
     "data": {
      "text/plain": [
       "{'aug': {'image_aug': False, 'masked_language_model': True},\n",
       " 'backbone': 'vgg19_bn',\n",
       " 'cnn': {'hidden': 256,\n",
       "  'ks': [[2, 2], [2, 2], [2, 1], [2, 1], [1, 1]],\n",
       "  'ss': [[2, 2], [2, 2], [2, 1], [2, 1], [1, 1]]},\n",
       " 'dataloader': {'num_workers': 0, 'pin_memory': True},\n",
       " 'dataset': {'data_root': '',\n",
       "  'image_height': 32,\n",
       "  'image_max_width': 512,\n",
       "  'image_min_width': 32,\n",
       "  'name': 'hw',\n",
       "  'train_annotation': 'gen_data_230315/train_test_txt/230315_mix_train.txt',\n",
       "  'valid_annotation': 'gen_data_230315/train_test_txt/230315_mix_test.txt'},\n",
       " 'device': 'cuda',\n",
       " 'optimizer': {'max_lr': 0.0003, 'pct_start': 0.1},\n",
       " 'predictor': {'beamsearch': False},\n",
       " 'pretrain': 'https://vocr.vn/data/vietocr/vgg_seq2seq.pth',\n",
       " 'quiet': False,\n",
       " 'seq_modeling': 'seq2seq',\n",
       " 'trainer': {'batch_size': 8,\n",
       "  'checkpoint': './checkpoint/transformerocr_checkpoint.pth',\n",
       "  'export': 'line_ocr_230315.pth',\n",
       "  'iters': 80000,\n",
       "  'log': './train.log',\n",
       "  'metrics': 1000,\n",
       "  'print_every': 100,\n",
       "  'valid_every': 500},\n",
       " 'transformer': {'decoder_embedded': 256,\n",
       "  'decoder_hidden': 256,\n",
       "  'dropout': 0.1,\n",
       "  'encoder_hidden': 256,\n",
       "  'img_channel': 256},\n",
       " 'vocab': 'aAàÀảẢãÃáÁạẠăĂằẰẳẲẵẴắẮặẶâÂầẦẩẨẫẪấẤậẬbBcCdDđĐeEèÈẻẺẽẼéÉẹẸêÊềỀểỂễỄếẾệỆfFgGhHiIìÌỉỈĩĨíÍịỊjJkKlLmMnNoOòÒỏỎõÕóÓọỌôÔồỒổỔỗỖốỐộỘơƠờỜởỞỡỠớỚợỢpPqQrRsStTuUùÙủỦũŨúÚụỤưƯừỪửỬữỮứỨựỰvVwWxXyYỳỲỷỶỹỸýÝỵỴzZ0123456789!\"#$%&\\'()*+,-./:;<=>?@[\\\\]^_`{|}~ ',\n",
       " 'weights': 'https://drive.google.com/uc?id=13327Y1tz1ohsm5YZMyXVMPIOjoOA0OaA'}"
      ]
     },
     "execution_count": 5,
     "metadata": {},
     "output_type": "execute_result"
    }
   ],
   "source": [
    "aug_param = {\n",
    "    'image_aug': False,\n",
    "    'masked_language_model': True\n",
    "}\n",
    "config['aug'].update(aug_param)\n",
    "config['trainer']['batch_size'] = 8\n",
    "config['dataloader']['num_workers'] = 0\n",
    "config['optimizer']['max_lr'] = 0.0003\n",
    "config['optimizer']['pct_start'] = 0.1\n",
    "config"
   ]
  },
  {
   "cell_type": "code",
   "execution_count": null,
   "metadata": {},
   "outputs": [],
   "source": [
    "trainer = Trainer(config, pretrained=True)"
   ]
  },
  {
   "cell_type": "code",
   "execution_count": null,
   "metadata": {},
   "outputs": [],
   "source": [
    "# trainer.visualize_dataset()\n",
    "trainer.train()"
   ]
  },
  {
   "cell_type": "code",
   "execution_count": null,
   "metadata": {},
   "outputs": [],
   "source": []
  },
  {
   "cell_type": "code",
   "execution_count": null,
   "metadata": {},
   "outputs": [],
   "source": []
  }
 ],
 "metadata": {
  "kernelspec": {
   "display_name": "base",
   "language": "python",
   "name": "python3"
  },
  "language_info": {
   "codemirror_mode": {
    "name": "ipython",
    "version": 3
   },
   "file_extension": ".py",
   "mimetype": "text/x-python",
   "name": "python",
   "nbconvert_exporter": "python",
   "pygments_lexer": "ipython3",
   "version": "3.9.12"
  },
  "orig_nbformat": 4
 },
 "nbformat": 4,
 "nbformat_minor": 2
}
