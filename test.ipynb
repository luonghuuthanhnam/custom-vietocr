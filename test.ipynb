{
 "cells": [
  {
   "cell_type": "code",
   "execution_count": 3,
   "metadata": {},
   "outputs": [],
   "source": [
    "from vietocr.tool.config import Cfg"
   ]
  },
  {
   "cell_type": "code",
   "execution_count": 5,
   "metadata": {},
   "outputs": [
    {
     "name": "stdout",
     "output_type": "stream",
     "text": [
      "fname: config_vgg.yml\n"
     ]
    }
   ],
   "source": [
    "config = Cfg.load_config_from_file(\"config_vgg.yml\")"
   ]
  },
  {
   "cell_type": "code",
   "execution_count": null,
   "metadata": {},
   "outputs": [],
   "source": [
    "# vocab = 'aAàÀảẢãÃáÁạẠăĂằẰẳẲẵẴắẮặẶâÂầẦẩẨẫẪấẤậẬbBcCdDđĐeEèÈẻẺẽẼéÉẹẸêÊềỀểỂễỄếẾệỆfFgGhHiIìÌỉỈĩĨíÍịỊjJkKlLmMnNoOòÒỏỎõÕóÓọỌôÔồỒổỔỗỖốỐộỘơƠờỜởỞỡỠớỚợỢpPqQrRsStTuUùÙủỦũŨúÚụỤưƯừỪửỬữỮứỨựỰvVwWxXyYỳỲỷỶỹỸýÝỵỴzZ0123456789!\"#$%&\\'()*+,-./:;<=>?@[\\\\]^_`{|}~ ±α'\n",
    "# config['vocab'] = vocab\n",
    "#config['vocab'] = 'aAàÀảẢãÃáÁạẠăĂằẰẳẲẵẴắẮặẶâÂầẦẩẨẫẪấẤậẬbBcCdDđĐeEèÈẻẺẽẼéÉẹẸêÊềỀểỂễỄếẾệỆfFgGhHiIìÌỉỈĩĨíÍịỊjJkKlLmMnNoOòÒỏỎõÕóÓọỌôÔồỒổỔỗỖốỐộỘơƠờỜởỞỡỠớỚợỢpPqQrRsStTuUùÙủỦũŨúÚụỤưƯừỪửỬữỮứỨựỰvVwWxXyYỳỲỷỶỹỸýÝỵỴzZ0123456789!\"#$%&\\'()*+,-./:;<=>?@[\\\\]^_`{|}~ '\n",
    "\n",
    "dataset_params = {\n",
    "'name':'hw',\n",
    "'data_root':'/',\n",
    "'train_annotation':'gen_data_230315/train_test_txt/230315_mix_train.txt',\n",
    "'valid_annotation':'gen_data_230315/train_test_txt/230315_mix_test.txt'\n",
    "}\n",
    "\n",
    "params = {\n",
    "'print_every':100,\n",
    "'valid_every':500,\n",
    "'iters':80000,\n",
    "# 'checkpoint':'/content/drive/MyDrive/PPY/DischargePaper/OCR/model/line_ocr_221122_8711.pth',\n",
    "'export':'line_ocr_230315.pth',\n",
    "'metrics': 1000\n",
    "}\n",
    "\n",
    "config['trainer'].update(params)\n",
    "\n",
    "# config['trainer']['print_every'] = 100\n",
    "# config['trainer']['valid_every'] = 250\n",
    "# config['trainer']['iters']  = 1000\n",
    "# config['trainer']['metrics'] = 500\n",
    "# config['trainer']['export'] = './weights/transformerocr.pth'\n",
    "config.weights = \"https://drive.google.com/uc?id=13327Y1tz1ohsm5YZMyXVMPIOjoOA0OaA\"\n",
    "# config.weights = \"/content/drive/MyDrive/PPY/DischargePaper/OCR/model/line_ocr_221214.pth\"\n",
    "# config.pretrain = \"/content/drive/MyDrive/PPY/DischargePaper/OCR/model/line_ocr_221214.pth\"\n",
    "\n",
    "config['dataset'].update(dataset_params)\n",
    "config['device'] = 'cuda'"
   ]
  }
 ],
 "metadata": {
  "kernelspec": {
   "display_name": "base",
   "language": "python",
   "name": "python3"
  },
  "language_info": {
   "codemirror_mode": {
    "name": "ipython",
    "version": 3
   },
   "file_extension": ".py",
   "mimetype": "text/x-python",
   "name": "python",
   "nbconvert_exporter": "python",
   "pygments_lexer": "ipython3",
   "version": "3.9.12"
  },
  "orig_nbformat": 4
 },
 "nbformat": 4,
 "nbformat_minor": 2
}
